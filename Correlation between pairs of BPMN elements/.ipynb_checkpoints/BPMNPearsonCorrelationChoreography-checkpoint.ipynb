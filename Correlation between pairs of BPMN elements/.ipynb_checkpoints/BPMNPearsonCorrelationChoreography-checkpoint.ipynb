{
 "cells": [
  {
   "cell_type": "code",
   "execution_count": 7,
   "id": "bd59036f-73a0-4590-9385-edf5efc46c8b",
   "metadata": {},
   "outputs": [],
   "source": [
    "import numpy as np\n",
    "import matplotlib.pyplot as plt\n",
    "import pandas as pd"
   ]
  },
  {
   "cell_type": "code",
   "execution_count": 15,
   "id": "7261e1b9-a1d6-4b36-bbca-63a97206ed07",
   "metadata": {},
   "outputs": [],
   "source": [
    "#df = pd.read_csv('conversation.csv', low_memory=False, delimiter=\";\", encoding = \"ISO-8859-1\", index_col=False)\n",
    "#df.drop(['CollectionName', 'fileName','bpmnModeler','modelType', 'isEnglish', \"Model's Execution Time\", 'TotalElements', 'Practical Complexity', 'File Size (Kb)', 'Duplicate String', 'Labels Separated by (^^^)', 'Concatenated Labels'], axis = 1, inplace = True)\n",
    "df = pd.read_csv('choreography.csv', usecols=['nChoreographyTask','nChoreographyParticipant','nSequenceFlow', 'nExclusiveGatewayMarker', 'nChoreographyMessage'], low_memory=False, delimiter=\";\", encoding = \"ISO-8859-1\", index_col=False)\n",
    "#df.drop(['CollectionName', 'fileName','bpmnModeler','modelType', 'isEnglish', \"Model's Execution Time\", 'TotalElements', 'Practical Complexity', 'File Size (Kb)', 'Duplicate String', 'Labels Separated by (^^^)', 'Concatenated Labels'], axis = 1, inplace = True)\n",
    "df = df.iloc[0:544]"
   ]
  },
  {
   "cell_type": "code",
   "execution_count": 25,
   "id": "b6d40630-5a57-4772-ac8e-73911ed1ec71",
   "metadata": {},
   "outputs": [
    {
     "name": "stdout",
     "output_type": "stream",
     "text": [
      "[[1.         0.61113088]\n",
      " [0.61113088 1.        ]]\n"
     ]
    }
   ],
   "source": [
    "#df = df.astype('int')\n",
    "nChoreographyTask_df = np.array(df.loc[0:544, 'nChoreographyTask'])\n",
    "nChoreographyParticipant_df = np.array(df.loc[0:544, 'nChoreographyParticipant'])\n",
    "nSequenceFlow_df = np.array(df.loc[0:544, 'nSequenceFlow'])\n",
    "nExclusiveGatewayMarker_df = np.array(df.loc[0:544, 'nExclusiveGatewayMarker'])\n",
    "nChoreographyMessage_df = np.array(df.loc[0:544, 'nChoreographyMessage'])\n",
    "\n",
    "my_rho = np.corrcoef(nChoreographyParticipant_df,nExclusiveGatewayMarker_df)\n",
    "\n",
    "df2 = pd.DataFrame(my_rho)\n",
    "df2.to_csv('file.csv',index=False)\n",
    "\n",
    "print(my_rho)\n"
   ]
  }
 ],
 "metadata": {
  "kernelspec": {
   "display_name": "Python 3 (ipykernel)",
   "language": "python",
   "name": "python3"
  },
  "language_info": {
   "codemirror_mode": {
    "name": "ipython",
    "version": 3
   },
   "file_extension": ".py",
   "mimetype": "text/x-python",
   "name": "python",
   "nbconvert_exporter": "python",
   "pygments_lexer": "ipython3",
   "version": "3.9.8"
  }
 },
 "nbformat": 4,
 "nbformat_minor": 5
}
