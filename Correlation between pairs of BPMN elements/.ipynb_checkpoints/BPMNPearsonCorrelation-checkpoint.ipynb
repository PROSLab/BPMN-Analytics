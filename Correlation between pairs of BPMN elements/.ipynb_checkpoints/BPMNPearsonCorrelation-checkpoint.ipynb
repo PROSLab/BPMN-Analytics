{
 "cells": [
  {
   "cell_type": "code",
   "execution_count": 455,
   "id": "bd59036f-73a0-4590-9385-edf5efc46c8b",
   "metadata": {},
   "outputs": [],
   "source": [
    "import numpy as np\n",
    "import os\n",
    "import csv\n",
    "import time\n",
    "import matplotlib.pyplot as plt\n",
    "import pandas as pd"
   ]
  },
  {
   "cell_type": "code",
   "execution_count": 457,
   "id": "b6d40630-5a57-4772-ac8e-73911ed1ec71",
   "metadata": {},
   "outputs": [],
   "source": [
    "df = pd.read_csv('choreography.csv', low_memory=False, delimiter=\";\", encoding = \"ISO-8859-1\", index_col=False)\n",
    "csvfilename = \"choreography\"\n",
    "filename = oldfilename+\"PearsonCorrelation.csv\" \n",
    "header = df.columns.values.tolist()\n",
    "header.insert(0, '\\\\' )\n",
    "with open(filename, 'a', newline='') as csvfile:\n",
    "            csvwriter = csv.writer(csvfile)\n",
    "            csvwriter.writerow(header)           \n",
    "for index, element in enumerate(df):\n",
    "    rho_element_list = []\n",
    "    x_df = np.array(df.loc[0:, element])    \n",
    "    for index2, element2 in enumerate(df):\n",
    "        y_df = np.array(df.loc[0:, element2])\n",
    "        my_rho = np.corrcoef(x_df,y_df)\n",
    "        currentRho = my_rho[1][0]        \n",
    "        rho_element_list.append(currentRho)\n",
    "    with open(filename, 'a', newline='') as csvfile:\n",
    "        csvwriter = csv.writer(csvfile)\n",
    "        csvwriter.writerow([element] + rho_element_list)"
   ]
  }
 ],
 "metadata": {
  "kernelspec": {
   "display_name": "Python 3 (ipykernel)",
   "language": "python",
   "name": "python3"
  },
  "language_info": {
   "codemirror_mode": {
    "name": "ipython",
    "version": 3
   },
   "file_extension": ".py",
   "mimetype": "text/x-python",
   "name": "python",
   "nbconvert_exporter": "python",
   "pygments_lexer": "ipython3",
   "version": "3.9.8"
  }
 },
 "nbformat": 4,
 "nbformat_minor": 5
}
